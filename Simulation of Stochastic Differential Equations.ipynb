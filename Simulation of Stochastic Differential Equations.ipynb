{
 "cells": [
  {
   "cell_type": "markdown",
   "metadata": {},
   "source": [
    "# Simulation of Stochastic Differential Equations"
   ]
  },
  {
   "cell_type": "markdown",
   "metadata": {},
   "source": [
    " Difussion process is as follows:\n",
    " \n",
    "\\begin{equation}\n",
    "dS_t  = \\kappa(S-S_t)^{\\eta} dt + \\sigma S_t^{\\gamma}dW_t \\\\\n",
    "\\end{equation}\n"
   ]
  },
  {
   "cell_type": "markdown",
   "metadata": {},
   "source": [
    " Given values are as follows:\n",
    " \n",
    "\\begin{equation}\n",
    "S_0 = 0.1, \\\\\n",
    "\\kappa = 0.5, \\\\\n",
    "S = 0.04, \\\\\n",
    "\\eta = 2, \\\\\n",
    "\\sigma = 0.05/(S_0^{\\gamma}), \\\\\n",
    "\\gamma = 3 \\\\\n",
    "\\end{equation}"
   ]
  },
  {
   "cell_type": "markdown",
   "metadata": {},
   "source": [
    "# 1. Euler Scheme:\n",
    "\n",
    "For given SDE, Euler Scheme looks as follows:"
   ]
  },
  {
   "cell_type": "markdown",
   "metadata": {},
   "source": [
    "\\begin{equation}\n",
    "\\hat{S_0} = S_0 \\\\\n",
    "\\end{equation}\n",
    "\n",
    "\\begin{equation}\n",
    "\\hat{S_{n+1}} = \\hat{S_n} + \\kappa(S - \\hat{S_n})^\\eta \\delta + \\sigma \\hat{S_n}^\\gamma (W_{n\\delta} - W_{(n-1)\\delta}) \\\\\n",
    "\\end{equation}"
   ]
  },
  {
   "cell_type": "code",
   "execution_count": 7,
   "metadata": {},
   "outputs": [],
   "source": [
    "# Arguments are as follows:\n",
    "# W : Simulation of Brownian Motion\n",
    "# N : Number of discretization units\n",
    "# T : Time\n",
    "# s0, vol(sigma), k, s_bar, eta and gamma are given above\n",
    "\n",
    "\n",
    "vol = (0.05/(0.1**3))\n",
    "def euler_scheme(W, N, T, s0, k, s_bar, eta, gamma ):\n",
    "    del_t = T/N\n",
    "    \n",
    "    s_t = [s0]\n",
    "    \n",
    "    for i in range(len(W)-1):\n",
    "        s_t.append(s_t[i] + del_t*k*(s_bar - s_t[i] )**eta + vol *(s_t[i])**gamma * (W[i]))  \n",
    "    return s_t"
   ]
  },
  {
   "attachments": {},
   "cell_type": "markdown",
   "metadata": {},
   "source": [
    "# 2. Doss Scheme:\n",
    "\n",
    "For given SDE, Doss Scheme looks as follows:"
   ]
  },
  {
   "cell_type": "markdown",
   "metadata": {},
   "source": [
    "\n",
    "\\begin{equation}\n",
    "Let, Y_t = F(S_t) = \\frac{S_t^{1-\\gamma}}{\\sigma (1-\\gamma)}\\;\n",
    "Then, S_t = G(Y_t) = \\bigl({(1-\\gamma)\\sigma Y_t}\\bigr)^{\\frac{1}{1 - \\gamma}}\\\\\n",
    "\\end{equation}\n",
    "\n",
    "\\begin{equation}\n",
    "Note \\:that, F^{'}(S_t) = \\frac{S_t^{-\\gamma}}{\\sigma}. Then, \\;\n",
    "dY_t = \\bigl(\\frac{\\kappa(S - S_t)^{\\eta}}{\\sigma S_t^{\\gamma}} - \\frac{\\gamma \\sigma S_t^{\\gamma -1}}{2}\\bigr)dt + dW_t\\\\\n",
    "\\end{equation}\n",
    "\n",
    "\\begin{equation}\n",
    "Thus,\\;\n",
    "\\hat{Y_0} = Y_0 = F(S_0)\\\\\n",
    "\\end{equation}\n",
    "\n",
    "\n",
    "\\begin{equation}\n",
    "\\hat{Y_{n+1}} = \\hat{Y_n} + \\bigl(\\frac{\\kappa(S - G(\\hat{Y_n}))^\\eta}{\\sigma G(\\hat{Y_n})^{\\gamma}} - \\frac{\\gamma \\sigma G(\\hat{Y_n})^{\\gamma - 1}}{2}\\bigr)\\delta + (W_{n\\delta} - W_{(n-1)\\delta})\\\\\n",
    "\\end{equation}\n",
    "\n",
    "\\begin{equation}\n",
    "\\hat{S_n} = G(\\hat{Y_n})\\\\\n",
    "\\end{equation}"
   ]
  },
  {
   "cell_type": "code",
   "execution_count": 8,
   "metadata": {},
   "outputs": [],
   "source": [
    "# From above solutions, doss_funct is Yt = F(St)\n",
    "# Arguments are same as in Euler Scheme\n",
    "def doss_funct (s, gamma):\n",
    "    num   = s**(1-gamma)\n",
    "    denom = vol*(1-gamma)\n",
    "    s_t   = num/denom\n",
    "    return s_t\n",
    "\n",
    "# Similarly inv_doss_funct is St = G(Yt)\n",
    "# Argument y is the output of the doss_funct\n",
    "def inv_doss_funct(y, gamma):\n",
    "    s_t = (y * vol *(1-gamma))**(1/(1-gamma))\n",
    "    return s_t\n",
    "\n",
    "# Arguments are same as in Euler Scheme\n",
    "def doss_scheme(W, N, T, s0, k, s_bar, eta, gamma):\n",
    "    del_t = T/N # Discretization units\n",
    "    y_t = [doss_funct(s0, gamma)] # Initial value of Yt\n",
    "    s_t = [inv_doss_funct(y_t[0], gamma)] # Initial value of St\n",
    "    \n",
    "    for i in range(len(W)-1):\n",
    "        a      = inv_doss_funct(y_t[i], gamma) # calculates G(Yt)\n",
    "        num1   = k*((s_bar - a)**eta) # Numerator of first expression inside large brackets\n",
    "        denom1 = vol*(a**gamma) # Denominator of first expression inside large brackets\n",
    "        \n",
    "        num2   = gamma*vol*(a**(gamma-1)) # Numerator of second expression inside large brackets\n",
    "        denom2 = 2\n",
    "        \n",
    "        y_t.append(y_t[i] + (num1/denom1 - num2/denom2)*del_t + (W[i]))\n",
    "        s_t.append(inv_doss_funct(y_t[i], gamma))\n",
    "    return s_t"
   ]
  },
  {
   "attachments": {},
   "cell_type": "markdown",
   "metadata": {},
   "source": [
    "# 3. Milstein Scheme:\n",
    "\n",
    "For given SDE, Milstein Scheme looks as follows:"
   ]
  },
  {
   "cell_type": "markdown",
   "metadata": {},
   "source": [
    "\\begin{equation}\n",
    "\\hat{S_0} = S_0 \\\\\n",
    "\\end{equation}\n",
    "\n",
    "\\begin{equation}\n",
    "\\hat{S_{n+1}} = \\hat{S_n} + \\kappa(S - \\hat{S_n})^\\eta \\delta + \\sigma \\hat{S_n}^\\gamma (W_{n\\delta} - W_{(n-1)\\delta}) + \\frac{1}{2} \\gamma \\sigma^2 \\hat{S_n}^{2 \\gamma -1} \\bigl(W_{n\\delta} - W_{(n-1)\\delta})^2 -\\delta \\bigr)\\\\\n",
    "\\end{equation}"
   ]
  },
  {
   "cell_type": "code",
   "execution_count": 9,
   "metadata": {},
   "outputs": [],
   "source": [
    "# Arguments are as follows:\n",
    "# W : Simulation of Brownian Motion\n",
    "# N : Number of discretization units\n",
    "# T : Time\n",
    "# s0, vol(sigma), k, s_bar, eta and gamma are given above\n",
    "\n",
    "def milstein_scheme(W, N, T, s0, k, s_bar, eta, gamma):\n",
    "    del_t = T/N\n",
    "    s_t = [s0]\n",
    "    \n",
    "    for i in range(len(W)-1):\n",
    "        s_t.append(s_t[i] + del_t*k*(s_bar - s_t[i] )**eta + vol *(s_t[i])**gamma * (W[i])\n",
    "        + 0.5*gamma*vol**2 * s_t[i]**(2*gamma -1) * ((W[i])**2 - del_t))        \n",
    "    return s_t"
   ]
  },
  {
   "cell_type": "markdown",
   "metadata": {},
   "source": [
    "# 4. Plotting all three schemes:"
   ]
  },
  {
   "cell_type": "code",
   "execution_count": 10,
   "metadata": {},
   "outputs": [
    {
     "data": {
      "text/plain": [
       "Text(0.5, 1.0, 'Three Different Schemes with N = 256')"
      ]
     },
     "execution_count": 10,
     "metadata": {},
     "output_type": "execute_result"
    },
    {
     "data": {
      "image/png": "[encoded data removed]",
      "text/plain": [
       "<Figure size 432x288 with 1 Axes>"
      ]
     },
     "metadata": {
      "needs_background": "light"
     },
     "output_type": "display_data"
    }
   ],
   "source": [
    "import math\n",
    "import numpy as np\n",
    "import matplotlib.pyplot as plt\n",
    "\n",
    "\n",
    "# Helper function to evenly space the grid\n",
    "def frange(start, stop, step):\n",
    "    i = start\n",
    "    while i < stop:\n",
    "         yield i\n",
    "         i += step\n",
    "        \n",
    "\n",
    "W_t = np.random.normal(0,math.sqrt(1/256), 256) # Generating brownian increments \n",
    "y_e = euler_scheme(W_t,256, 1, 0.1, 0.5, 0.04, 2, 3)\n",
    "y_d = doss_scheme(W_t,256, 1, 0.1, 0.5, 0.04, 2, 3)\n",
    "y_m = milstein_scheme(W_t,256, 1, 0.1, 0.5, 0.04, 2, 3)\n",
    "\n",
    "x = list(frange(0,1, 1/256))\n",
    "\n",
    "plt.plot(x, y_e, color = 'b')\n",
    "plt.plot(x, y_m, color = 'r')\n",
    "plt.plot(x, y_d, color = 'g')\n",
    "plt.ylabel(\"St\")\n",
    "plt.xlabel(\"t\")\n",
    "plt.legend([\"Euler\", \"Doss Transform\", \"Milstein\"])\n",
    "plt.title(\"Three Different Schemes with N = 256\") "
   ]
  },
  {
   "cell_type": "code",
   "execution_count": null,
   "metadata": {},
   "outputs": [],
   "source": []
  }
 ],
 "metadata": {
  "kernelspec": {
   "display_name": "Python 3",
   "language": "python",
   "name": "python3"
  },
  "language_info": {
   "codemirror_mode": {
    "name": "ipython",
    "version": 3
   },
   "file_extension": ".py",
   "mimetype": "text/x-python",
   "name": "python",
   "nbconvert_exporter": "python",
   "pygments_lexer": "ipython3",
   "version": "3.7.1"
  }
 },
 "nbformat": 4,
 "nbformat_minor": 2
}
